{
 "cells": [
  {
   "cell_type": "markdown",
   "metadata": {},
   "source": [
    "# <font color=blue size=\"10\">Analyze changes in tuning curves under inactivations of SOM</font>"
   ]
  },
  {
   "cell_type": "markdown",
   "metadata": {},
   "source": [
    "We use the functional derived from a difference of gaussians (Mexican hat) to fit the bandwidth tuning curves"
   ]
  },
  {
   "cell_type": "code",
   "execution_count": 1,
   "metadata": {
    "collapsed": false
   },
   "outputs": [
    {
     "data": {
      "text/plain": [
       "<module 'tuning_curve_feature_plotting' from '/Users/yashar/Google-Drive/Documents/Work/Projects/AuditoryContextualModul/Matlab/tuning_curve_feature_plotting.py'>"
      ]
     },
     "execution_count": 1,
     "metadata": {},
     "output_type": "execute_result"
    }
   ],
   "source": [
    "import numpy as np\n",
    "import matplotlib.pyplot as plt\n",
    "import time\n",
    "import tqdm\n",
    "from importlib import reload\n",
    "#from tuning_curve_fit_funcs import carandini_fit_wStats\n",
    "import tuning_curve_fit_funcs as tcfits\n",
    "import tuning_curve_feature_plotting as tcfplot\n",
    "reload(tcfits)\n",
    "reload(tcfplot)"
   ]
  },
  {
   "cell_type": "code",
   "execution_count": 2,
   "metadata": {
    "collapsed": false
   },
   "outputs": [
    {
     "name": "stdout",
     "output_type": "stream",
     "text": [
      "SOMBaselineSpikeRates\n",
      "laser\n",
      "noSOMsustainedResponses\n",
      "PVBaselineSpikeRates\n",
      "bandwidths\n",
      "noPVsustainedResponses\n"
     ]
    }
   ],
   "source": [
    "DATA_DIR = '/Users/yashar/Google-Drive/Documents/Work/Projects/AuditoryContextualModul/Matlab/Lakunina-Jaramillo-Data/'\n",
    "filename = 'inactivated_cells_responses.npz'\n",
    "data = np.load(DATA_DIR + filename)\n",
    "print(\"\\n\".join(data.keys())) #:gives the list of arrays in the file\n",
    "data.close()"
   ]
  },
  {
   "cell_type": "code",
   "execution_count": 3,
   "metadata": {
    "collapsed": true
   },
   "outputs": [],
   "source": [
    "BLisZeroBW = True #whether to replace pure tone evoked rates with baseline (spontaneous) rates\n",
    "WNoctave = 6 #what BW (in octaves) to attribute to white noise stimulus"
   ]
  },
  {
   "cell_type": "markdown",
   "metadata": {},
   "source": [
    "# SOM inactivation"
   ]
  },
  {
   "cell_type": "code",
   "execution_count": 4,
   "metadata": {
    "collapsed": false
   },
   "outputs": [
    {
     "name": "stderr",
     "output_type": "stream",
     "text": [
      "  0%|          | 0/57 [00:00<?, ?it/s]/Users/yashar/Google-Drive/Documents/Work/Projects/AuditoryContextualModul/Matlab/tuning_curve_fit_funcs.py:221: RuntimeWarning: divide by zero encountered in double_scalars\n",
      "  Stats['SuppInd'] = 1 - Stats['wnResp']/Stats['maxResp']\n",
      "/Users/yashar/Google-Drive/Documents/Work/Projects/AuditoryContextualModul/Matlab/tuning_curve_fit_funcs.py:230: RuntimeWarning: divide by zero encountered in double_scalars\n",
      "  RawStats['SuppInd'] = 1 - RawStats['wnResp']/RawStats['maxResp']\n",
      "100%|██████████| 57/57 [00:04<00:00, 12.59it/s]\n",
      "  4%|▎         | 2/57 [00:00<00:03, 14.18it/s]"
     ]
    },
    {
     "name": "stdout",
     "output_type": "stream",
     "text": [
      "\n",
      " Elapsed time was 4.52789 seconds\n"
     ]
    },
    {
     "name": "stderr",
     "output_type": "stream",
     "text": [
      "100%|██████████| 57/57 [00:18<00:00,  3.07it/s]"
     ]
    },
    {
     "name": "stdout",
     "output_type": "stream",
     "text": [
      "\n",
      " Elapsed time was 18.5615 seconds\n"
     ]
    },
    {
     "name": "stderr",
     "output_type": "stream",
     "text": [
      "\n"
     ]
    }
   ],
   "source": [
    "#fit all cell TC's with and without SOM inactivations \n",
    "Celltype = 'SOM'\n",
    "CelltypeLabel = 'SOM-inactivation'\n",
    "Response_type = 'sustained'\n",
    "mExp = 1\n",
    "\n",
    "TCfeatures_SOM_Laser_on = tcfits.FitAllCells(DATA_DIR + filename, Celltype, Response_type, BLisZeroBW,\\\n",
    "                             WNoctave,  mFixed=mExp, function_class_fit= \"diff_of_gauss_fit\",\\\n",
    "                                INACTIVATION=True,laser=1)\n",
    "\n",
    "TCfeatures_SOM_Laser_off = tcfits.FitAllCells(DATA_DIR + filename, Celltype, Response_type, BLisZeroBW,\\\n",
    "                             WNoctave,  mFixed=mExp, function_class_fit= \"diff_of_gauss_fit\",\\\n",
    "                                INACTIVATION=True,laser=0)"
   ]
  },
  {
   "cell_type": "markdown",
   "metadata": {},
   "source": [
    "### Goodness of fit"
   ]
  },
  {
   "cell_type": "code",
   "execution_count": 5,
   "metadata": {
    "collapsed": false,
    "scrolled": true
   },
   "outputs": [
    {
     "data": {
      "image/png": "[encoded data removed]",
      "text/plain": [
       "<Figure size 600x400 with 1 Axes>"
      ]
     },
     "metadata": {},
     "output_type": "display_data"
    },
    {
     "data": {
      "image/png": "[encoded data removed]",
      "text/plain": [
       "<Figure size 600x400 with 1 Axes>"
      ]
     },
     "metadata": {},
     "output_type": "display_data"
    }
   ],
   "source": [
    "%matplotlib inline\n",
    "\n",
    "for ii,laser in enumerate(['on','off']):\n",
    "    TCfeatures = eval('TCfeatures_'+Celltype+'_Laser_'+laser)\n",
    "    R2 = TCfeatures['GoF']['R2']\n",
    "    R2Label = TCfeatures['GoFLabels']['R2']\n",
    "    plt.subplot(2,1,ii+1)\n",
    "    #fig = plt.figure(figsize=(10,5))\n",
    "    n, bins, patches = plt.hist(R2, 15, facecolor='g',alpha=0.7)\n",
    "    plt.axvline(x=np.median(R2),c='r',linestyle='--')\n",
    "    plt.axvline(x=np.mean(R2),c='g',linestyle='--')\n",
    "    plt.xlabel(R2Label)\n",
    "    plt.ylabel(CelltypeLabel+ ' Cell Count')\n",
    "    plt.title('laser '+laser)\n",
    "    plt.text(np.median(R2)*.7, 7, 'median('+R2Label+') = %1.3f' % np.median(R2))\n",
    "    plt.text(np.mean(R2)*.7, 6, 'mean('+R2Label+') = %1.3f' % np.mean(R2))\n",
    "    #plt.axis([40, 160, 0, 0.03])\n",
    "    #plt.grid(True)\n",
    "    plt.show()"
   ]
  },
  {
   "cell_type": "code",
   "execution_count": 6,
   "metadata": {
    "collapsed": false
   },
   "outputs": [
    {
     "ename": "KeyboardInterrupt",
     "evalue": "",
     "output_type": "error",
     "traceback": [
      "\u001b[0;31m---------------------------------------------------------------------------\u001b[0m",
      "\u001b[0;31mKeyboardInterrupt\u001b[0m                         Traceback (most recent call last)",
      "\u001b[0;32m<ipython-input-6-9ba9a61e7e01>\u001b[0m in \u001b[0;36m<module>\u001b[0;34m()\u001b[0m\n\u001b[1;32m     32\u001b[0m     \u001b[0mdisplay\u001b[0m\u001b[0;34m.\u001b[0m\u001b[0mdisplay\u001b[0m\u001b[0;34m(\u001b[0m\u001b[0mpl\u001b[0m\u001b[0;34m.\u001b[0m\u001b[0mgcf\u001b[0m\u001b[0;34m(\u001b[0m\u001b[0;34m)\u001b[0m\u001b[0;34m)\u001b[0m\u001b[0;34m\u001b[0m\u001b[0m\n\u001b[1;32m     33\u001b[0m     \u001b[0mdisplay\u001b[0m\u001b[0;34m.\u001b[0m\u001b[0mclear_output\u001b[0m\u001b[0;34m(\u001b[0m\u001b[0mwait\u001b[0m\u001b[0;34m=\u001b[0m\u001b[0;32mTrue\u001b[0m\u001b[0;34m)\u001b[0m\u001b[0;34m\u001b[0m\u001b[0m\n\u001b[0;32m---> 34\u001b[0;31m     \u001b[0mtime\u001b[0m\u001b[0;34m.\u001b[0m\u001b[0msleep\u001b[0m\u001b[0;34m(\u001b[0m\u001b[0;36m.25\u001b[0m\u001b[0;34m)\u001b[0m\u001b[0;34m\u001b[0m\u001b[0m\n\u001b[0m",
      "\u001b[0;31mKeyboardInterrupt\u001b[0m: "
     ]
    },
    {
     "data": {
      "image/png": "[encoded data removed]",
      "text/plain": [
       "<Figure size 600x400 with 1 Axes>"
      ]
     },
     "metadata": {},
     "output_type": "display_data"
    }
   ],
   "source": [
    "TCfeaturesOn = eval('TCfeatures_'+Celltype+'_Laser_on')\n",
    "TCfeaturesOff = eval('TCfeatures_'+Celltype+'_Laser_off')\n",
    "test_BWs = TCfeaturesOn['test_BWs']\n",
    "Bandwidths = TCfeaturesOn['Bandwidths']\n",
    "R2off = TCfeaturesOff['GoF']['R2']\n",
    "R2on = TCfeaturesOn['GoF']['R2']    \n",
    "    \n",
    "#visualize all fits, from worse to best\n",
    "import pylab as pl\n",
    "from IPython import display\n",
    "\n",
    "R2inds = np.argsort(R2off)\n",
    "ii=0\n",
    "for cel in R2inds[:]:\n",
    "    pl.clf()\n",
    "    baselineOff = TCfeaturesOff['Baselines'][cel]\n",
    "    baselineOn = TCfeaturesOn['Baselines'][cel]\n",
    "    pl.plot(test_BWs,baselineOn + TCfeaturesOn['fitTCs'][:,cel],'r-',label='fit curve ('+R2Label+' = %1.2f)' % R2off[cel])\n",
    "    pl.plot(Bandwidths, baselineOn + TCfeaturesOn['rawTCs'][:,cel],'ro--',label='Laser On data')\n",
    "    pl.axvline(TCfeaturesOn['MiscParams']['prefBW'][cel],ymax=.17,c='r')\n",
    "#    pl.axhline(x=baselineOn,c='k',linestyle='--')\n",
    "    pl.plot(test_BWs,baselineOff + TCfeaturesOff['fitTCs'][:,cel],'k-',label='fit curve ('+R2Label+' = %1.2f)' % R2on[cel])\n",
    "    pl.plot(Bandwidths, baselineOff + TCfeaturesOff['rawTCs'][:,cel],'ko--',label='Laser Off data')\n",
    "    pl.axvline(TCfeaturesOff['MiscParams']['prefBW'][cel],ymax=.15,c='k')\n",
    "#    pl.axhline(x=baselineOff,c='k',linestyle='--')\n",
    "\n",
    "    pl.xlabel('Bandwidth (Octave)')\n",
    "    pl.ylabel('Rate (Hz)')\n",
    "    ii+=1\n",
    "    pl.title('Cell %i of %i,   %i%%' % (ii,len(R2),100 * ii//len(R2)))\n",
    "    pl.legend()\n",
    "    display.display(pl.gcf())\n",
    "    display.clear_output(wait=True)\n",
    "    time.sleep(.25)"
   ]
  },
  {
   "cell_type": "code",
   "execution_count": 7,
   "metadata": {
    "collapsed": false
   },
   "outputs": [],
   "source": [
    "#Save all fit plots, from worse to best\n",
    "PLOTS_DIR = DATA_DIR + 'Plots/TCplots/inactivate'+Celltype+'/'\n",
    "%matplotlib inline\n",
    "\n",
    "R2off = TCfeaturesOff['GoF']['R2']\n",
    "R2on = TCfeaturesOn['GoF']['R2']    \n",
    "R2inds = np.argsort(R2off)\n",
    "ii = 1\n",
    "for cel in R2inds[:]:\n",
    "    fig, ax = plt.subplots()\n",
    "\n",
    "    baselineOff = TCfeaturesOff['Baselines'][cel]\n",
    "    baselineOn = TCfeaturesOn['Baselines'][cel]\n",
    "    ax.plot(test_BWs,baselineOn + TCfeaturesOn['fitTCs'][:,cel],'r-',label='fit curve ('+R2Label+' = %1.2f)' % R2on[cel])\n",
    "    ax.plot(Bandwidths, baselineOn + TCfeaturesOn['rawTCs'][:,cel],'ro--',label='Laser On data')\n",
    "    ax.axvline(TCfeaturesOn['MiscParams']['prefBW'][cel],ymax=.17,c='r')\n",
    "#    ax.axhline(x=baselineOn,c='k',linestyle='--')\n",
    "    ax.plot(test_BWs,baselineOff + TCfeaturesOff['fitTCs'][:,cel],'k-',label='fit curve ('+R2Label+' = %1.2f)' % R2off[cel])\n",
    "    ax.plot(Bandwidths, baselineOff + TCfeaturesOff['rawTCs'][:,cel],'ko--',label='Laser Off data')\n",
    "    ax.axvline(TCfeaturesOff['MiscParams']['prefBW'][cel],ymax=.15,c='k')\n",
    "#    ax.axhline(x=baselineOff,c='k',linestyle='--')\n",
    "\n",
    "    TCfeatures = TCfeaturesOff\n",
    "    pars = [TCfeatures['MiscParams']['SuppInd_wBL'][cel],TCfeatures['CarandiniParams']['RD'][cel], TCfeatures['CarandiniParams']['RS'][cel],TCfeatures['CarandiniParams']['sigmaD'][cel],TCfeatures['CarandiniParams']['sigmaS'][cel]]\n",
    "    TCfeatures = TCfeaturesOn\n",
    "    pars = pars + [TCfeatures['MiscParams']['SuppInd_wBL'][cel],TCfeatures['CarandiniParams']['RD'][cel], TCfeatures['CarandiniParams']['RS'][cel],TCfeatures['CarandiniParams']['sigmaD'][cel],TCfeatures['CarandiniParams']['sigmaS'][cel]]\n",
    "    ax.set_title(('OFF: $SI$ = %2.1f, $R_D$ = %2.1f, $R_S$ = %2.1f, $\\sigma_D$ = %2.1f, $\\sigma_S$ = %2.1f\\n'+\\\n",
    "                 'ON: $SI$ = %2.1f, $R_D$ = %2.1f, $R_S$ = %2.1f, $\\sigma_D$ = %2.1f, $\\sigma_S$ = %2.1f') % tuple(pars))\n",
    "    ax.set_xlabel('Bandwidth (Octave)')\n",
    "    ax.set_ylabel('Rate (Hz)')\n",
    "    ax.legend()\n",
    "\n",
    "    fig.savefig(PLOTS_DIR +CelltypeLabel+'_cell_TC_gauss_fit_'+str(ii)+'.png')\n",
    "    plt.close(fig)\n",
    "    ii +=1"
   ]
  },
  {
   "cell_type": "code",
   "execution_count": 88,
   "metadata": {
    "collapsed": false
   },
   "outputs": [
    {
     "name": "stdout",
     "output_type": "stream",
     "text": [
      "dict_keys(['Ncells', 'MiscParamsNames', 'MiscParams', '__version__', 'MiscParamsLabels', 'RawMiscParams', 'CarandiniParamsLabels', 'fitTCs', 'BLisZeroBW', 'GoFNames', '__globals__', 'rawTCs', 'Bandwidths', 'Fit_curve_type', 'GoF', 'Celltype', 'test_BWs', 'Response_type', 'CarandiniParams', 'GoFLabels', '__header__', 'CarandiniParamsNames', 'Baselines'])\n"
     ]
    }
   ],
   "source": [
    "SAVE_DIR = '/Users/yashar/Google-Drive/Documents/Work/Projects/AuditoryContextualModul/Matlab/'\n",
    "from scipy.io import savemat, loadmat, whosmat\n",
    "filename = SAVE_DIR+'TCfeaturesToPlotOn.mat'\n",
    "savemat(filename,TCfeaturesOn, oned_as='column')\n",
    "\n",
    "MYDIC = loadmat(filename)\n",
    "print(MYDIC.keys())\n"
   ]
  },
  {
   "cell_type": "code",
   "execution_count": 93,
   "metadata": {
    "collapsed": false
   },
   "outputs": [
    {
     "data": {
      "text/plain": [
       "True"
      ]
     },
     "execution_count": 93,
     "metadata": {},
     "output_type": "execute_result"
    }
   ],
   "source": [
    "plt.isinteractive()"
   ]
  },
  {
   "cell_type": "code",
   "execution_count": 89,
   "metadata": {
    "collapsed": false
   },
   "outputs": [
    {
     "ename": "ImportError",
     "evalue": "No module named 'deepdish'",
     "output_type": "error",
     "traceback": [
      "\u001b[0;31m---------------------------------------------------\u001b[0m",
      "\u001b[0;31mImportError\u001b[0m       Traceback (most recent call last)",
      "\u001b[0;32m<ipython-input-89-9777e2fec805>\u001b[0m in \u001b[0;36m<module>\u001b[0;34m()\u001b[0m\n\u001b[1;32m      1\u001b[0m \u001b[0mSAVE_DIR\u001b[0m \u001b[0;34m=\u001b[0m \u001b[0;34m'/Users/yashar/Google-Drive/Documents/Work/Projects/AuditoryContextualModul/Matlab/'\u001b[0m\u001b[0;34m\u001b[0m\u001b[0m\n\u001b[0;32m----> 2\u001b[0;31m \u001b[0;32mimport\u001b[0m \u001b[0mdeepdish\u001b[0m \u001b[0;32mas\u001b[0m \u001b[0mdd\u001b[0m\u001b[0;34m\u001b[0m\u001b[0m\n\u001b[0m\u001b[1;32m      3\u001b[0m \u001b[0mfilename\u001b[0m \u001b[0;34m=\u001b[0m \u001b[0mSAVE_DIR\u001b[0m\u001b[0;34m+\u001b[0m\u001b[0;34m'TCfeaturesToPlotOn.h5'\u001b[0m\u001b[0;34m\u001b[0m\u001b[0m\n\u001b[1;32m      4\u001b[0m \u001b[0mdd\u001b[0m\u001b[0;34m.\u001b[0m\u001b[0mio\u001b[0m\u001b[0;34m.\u001b[0m\u001b[0msave\u001b[0m\u001b[0;34m(\u001b[0m\u001b[0mfilename\u001b[0m\u001b[0;34m,\u001b[0m\u001b[0mTCfeaturesOn\u001b[0m\u001b[0;34m)\u001b[0m\u001b[0;34m\u001b[0m\u001b[0m\n\u001b[1;32m      5\u001b[0m \u001b[0;34m\u001b[0m\u001b[0m\n",
      "\u001b[0;31mImportError\u001b[0m: No module named 'deepdish'"
     ]
    }
   ],
   "source": [
    "SAVE_DIR = '/Users/yashar/Google-Drive/Documents/Work/Projects/AuditoryContextualModul/Matlab/'\n",
    "import deepdish as dd\n",
    "filename = SAVE_DIR+'TCfeaturesToPlotOn.h5'\n",
    "dd.io.save(filename,TCfeaturesOn)\n",
    "\n",
    "MYDIC = dd.io.load(filename)\n",
    "print(MYDIC.keys())\n"
   ]
  },
  {
   "cell_type": "markdown",
   "metadata": {},
   "source": [
    "## Tuning curve feature distributions"
   ]
  },
  {
   "cell_type": "code",
   "execution_count": 7,
   "metadata": {
    "collapsed": false
   },
   "outputs": [
    {
     "name": "stdout",
     "output_type": "stream",
     "text": [
      "AbsPrefBW , Baseline , SuppInd_noBL , SuppInd_wBL , peakAbsResp , peakNegResp , peakRate , peakResp , peakSignedResp , prefBW , wnRate , wnResp\n"
     ]
    }
   ],
   "source": [
    "TCfeaturesToPlotOn = TCfeaturesOn['MiscParams']\n",
    "TCfeaturesToPlotOff = TCfeaturesOff['MiscParams']\n",
    "TCparamNames = TCfeaturesOff['MiscParamsNames']\n",
    "ParamsLabels = TCfeaturesOff['MiscParamsLabels']\n",
    "print(\" , \".join(TCparamNames))"
   ]
  },
  {
   "cell_type": "code",
   "execution_count": 90,
   "metadata": {
    "collapsed": false
   },
   "outputs": [
    {
     "name": "stdout",
     "output_type": "stream",
     "text": [
      "Ncells = 57\n"
     ]
    },
    {
     "data": {
      "image/png": "[encoded data removed]",
      "text/plain": [
       "<Figure size 600x600 with 3 Axes>"
      ]
     },
     "metadata": {},
     "output_type": "display_data"
    }
   ],
   "source": [
    "import seaborn as sns\n",
    "sns.set(style=\"white\", color_codes=True,palette='husl')\n",
    "sns.set_palette(\"husl\")\n",
    "sns.reset_orig()\n",
    "print('Ncells = {}'.format(TCfeaturesOn['Ncells']))\n",
    "\n",
    "xs = TCfeaturesToPlotOff['SuppInd_wBL']\n",
    "ys = TCfeaturesToPlotOn['SuppInd_wBL']\n",
    "marg_dict = {'kde':True,'bins':15}\n",
    "ee = .02\n",
    "lims = [-ee,1+ee]\n",
    "jgrd = sns.JointGrid(x=xs, y=ys, xlim=lims, ylim=lims)\n",
    "jgrd.plot_joint(plt.scatter, color=\"r\",alpha=.6)#, edgecolor=\"white\")\n",
    "jgrd.plot_marginals(sns.distplot, kde=True, color=\"r\",bins = 15)\n",
    "# jgrd = sns.jointplot(x=xs,y=ys, kind='scatter', color='r', xlim=lims, ylim=lims, marginal_kws=marg_dict,alpha = .6)\n",
    "fig = jgrd.fig\n",
    "axs = fig.get_axes()\n",
    "axs[0].plot([0,1],[0,1],'k-');\n",
    "#fig.get_children()"
   ]
  },
  {
   "cell_type": "code",
   "execution_count": null,
   "metadata": {
    "collapsed": false
   },
   "outputs": [],
   "source": [
    "%matplotlib inline\n",
    "\n",
    "import tuning_curve_feature_plotting as tcfplot\n",
    "reload(tcfplot)\n",
    "\n",
    "betterOrder = [10,1,4,3,2,7,5,9,11,12,8,6]\n",
    "tcfplot.makeHistograms(TCfeaturesToPlotOff, TCparamNames,ParamsLabels, CelltypeLabel,betterOrder,nbins=15)\n",
    "print(\"Ncells = %1.0f\" % TCfeatures['Ncells'])"
   ]
  },
  {
   "cell_type": "code",
   "execution_count": null,
   "metadata": {
    "collapsed": false
   },
   "outputs": [],
   "source": [
    "betterOrder = [10,1,4,3,2,7,5,9,11,12,8,6]\n",
    "tcfplot.makeHistograms(TCfeatures['RawMiscParams'], TCparamNames,ParamsLabels, CelltypeLabel,betterOrder,nbins=15)\n",
    "print(\"Ncells = %1.0f\" % TCfeatures['Ncells'])"
   ]
  },
  {
   "cell_type": "code",
   "execution_count": null,
   "metadata": {
    "collapsed": false
   },
   "outputs": [],
   "source": [
    "n_ftr = 12\n",
    "pairs = list(zip(range(n_ftr),range(n_ftr)))\n",
    "betterOrder = [10,1,4,3,2,7,5,9,11,12,8,6]\n",
    "pairs = [[betterOrder[i]-1 for i in p] for p in pairs] \n",
    "tcfplot.makeScatterPlots(TCfeaturesToPlot, TCparamNames, ParamsLabels,\\\n",
    "                         pairs,figsize=(15,15),cols=4,hspace = .3, wspace = .4,\\\n",
    "                        yTCfeatures = TCfeatures['RawMiscParams'])\n",
    "print(\"\\n\\n Comparing raw (y-axis) vs. fit-curve-extracted TC features\")"
   ]
  },
  {
   "cell_type": "markdown",
   "metadata": {},
   "source": [
    "#### Correlations of preferred BW with other quantities:"
   ]
  },
  {
   "cell_type": "code",
   "execution_count": null,
   "metadata": {
    "collapsed": false
   },
   "outputs": [],
   "source": [
    "pairs = [(5,1),(6,1),(8,1),(9,1),(10,1),(3,1),(11,1)]\n",
    "pairs = [[betterOrder[i-1]-1 for i in p] for p in pairs] \n",
    "tcfplot.makeScatterPlots(TCfeaturesToPlot, TCparamNames, ParamsLabels, pairs,uniformYs=True,figsize=(15,10))"
   ]
  },
  {
   "cell_type": "markdown",
   "metadata": {},
   "source": [
    "#### Correlations of *Suppression Index* with other quantities:"
   ]
  },
  {
   "cell_type": "code",
   "execution_count": null,
   "metadata": {
    "collapsed": false
   },
   "outputs": [],
   "source": [
    "pairs = [(5,3),(6,3),(8,3),(9,3),(10,3),(1,3),(11,3)]\n",
    "pairs = [[betterOrder[i-1]-1 for i in p] for p in pairs] \n",
    "tcfplot.makeScatterPlots(TCfeaturesToPlot, TCparamNames, ParamsLabels, pairs,uniformYs=True,figsize=(15,10))"
   ]
  },
  {
   "cell_type": "markdown",
   "metadata": {},
   "source": [
    "#### Correlations of rates and responses (not interesting)"
   ]
  },
  {
   "cell_type": "code",
   "execution_count": null,
   "metadata": {
    "collapsed": false
   },
   "outputs": [],
   "source": [
    "inds = range(5,13) #for rates\n",
    "pairs = [(j,i) for i in inds for j in inds]\n",
    "pairs = [[betterOrder[i-1]-1 for i in p] for p in pairs] \n",
    "tcfplot.makeScatterPlots(TCfeaturesToPlot, TCparamNames, ParamsLabels, \\\n",
    "                 pairs,cols=len(inds),figsize=(27/1.5,23/1.5),hspace=.4,wspace=.4,uniformYs=True,symm=True)"
   ]
  },
  {
   "cell_type": "markdown",
   "metadata": {},
   "source": [
    "## Difference of Gaussians parameters"
   ]
  },
  {
   "cell_type": "code",
   "execution_count": null,
   "metadata": {
    "collapsed": false
   },
   "outputs": [],
   "source": [
    "TCfeatures = eval(Celltype+'features')\n",
    "\n",
    "TCfeaturesToPlot = TCfeatures['CarandiniParams']\n",
    "TCparamNames = TCfeatures['CarandiniParamsNames']\n",
    "ParamsLabels = TCfeatures['CarandiniParamsLabels']\n",
    "print(\" , \".join(TCparamNames))"
   ]
  },
  {
   "cell_type": "code",
   "execution_count": null,
   "metadata": {
    "collapsed": false
   },
   "outputs": [],
   "source": [
    "%matplotlib inline\n",
    "\n",
    "betterOrder = [1,4,2,3,5,6] #list(range(1,7))\n",
    "tcfplot.makeHistograms(TCfeaturesToPlot, TCparamNames,ParamsLabels, CelltypeLabel,betterOrder,figsize=(8,10),nbins=15)\n",
    "print(\"Ncells = %1.0f\" % TCfeatures['Ncells'])"
   ]
  },
  {
   "cell_type": "markdown",
   "metadata": {},
   "source": [
    "Mean sigma_D is smaller for PV than E and SOM (in general), which may be consistent with \n",
    "another paper's (can't remember which) finding (told to me by Santiago) about the RF width of\n",
    "the three cell types. \n",
    "\n",
    "\n",
    "On the other hand, mean sigma_S of PV and SOM is larger than E's, in line with their weaker surround suppression"
   ]
  },
  {
   "cell_type": "code",
   "execution_count": null,
   "metadata": {
    "collapsed": false
   },
   "outputs": [],
   "source": [
    "inds = range(6)\n",
    "pairs = [(j,i) for i in inds for j in inds]\n",
    "betterOrder = [1,2,3,5,6,4]\n",
    "pairs = [[betterOrder[i]-1 for i in p] for p in pairs] \n",
    "tcfplot.makeScatterPlots(TCfeaturesToPlot, TCparamNames, ParamsLabels, \\\n",
    "                 pairs,cols=len(inds),figsize=(14,14),hspace=.4,wspace=.4,symm=True)"
   ]
  },
  {
   "cell_type": "code",
   "execution_count": null,
   "metadata": {
    "collapsed": false
   },
   "outputs": [],
   "source": [
    "betterOrder_x = [2,3,5,6]\n",
    "betterOrder_y = [10,1,4,8,6,12]\n",
    "pairs = [[i-1, j-1] for j in betterOrder_y for i in betterOrder_x ] \n",
    "sig_vec = tcfplot.makeScatterPlots(TCfeaturesToPlot, TCparamNames, ParamsLabels, \\\n",
    "                 pairs,cols=len(betterOrder_x),figsize=(14,18),hspace=.3,wspace=.2,uniformYs=True,uniformXs=True,\\\n",
    "                 yTCfeatures = TCfeatures['MiscParams'],yTCparamsNames = TCfeatures['MiscParamsNames'],\\\n",
    "                         yTCparamsLabels = TCfeatures['MiscParamsLabels'])"
   ]
  },
  {
   "cell_type": "code",
   "execution_count": null,
   "metadata": {
    "collapsed": false
   },
   "outputs": [],
   "source": [
    "pairs1 = [pairs[i] for i in np.nonzero(sig_vec)[0]]\n",
    "sigs = tcfplot.makeScatterPlots(TCfeaturesToPlot, TCparamNames, ParamsLabels, \\\n",
    "                 pairs1,cols=len(betterOrder_x),figsize=(14,6),wspace=.5,\\\n",
    "                 yTCfeatures = TCfeatures['MiscParams'],yTCparamsNames = TCfeatures['MiscParamsNames'],\\\n",
    "                         yTCparamsLabels = TCfeatures['MiscParamsLabels'])"
   ]
  },
  {
   "cell_type": "markdown",
   "metadata": {},
   "source": [
    "# Limiting to positively responsive cells"
   ]
  },
  {
   "cell_type": "code",
   "execution_count": null,
   "metadata": {
    "collapsed": false
   },
   "outputs": [],
   "source": [
    "%matplotlib inline\n",
    "cellinds = np.nonzero(TCfeatures['RawMiscParams']['peakResp']>0)[0] #== np.nonzero(TCfeatures['RawMiscParams']['prefBW']>0)[0])\n",
    "n1 = len(cellinds)\n",
    "Ncells = TCfeatures['Ncells']\n",
    "perc = 100*n1//Ncells\n",
    "#print(('\\n\\n %i%% (or %i/%i)   of ' % (perc,len(cellinds),TCfeatures['Ncells']))+CelltypeLabel+' cells have a positive response.')\n",
    "print(('\\n\\n %i/%i  of ' % (len(cellinds),TCfeatures['Ncells']))+CelltypeLabel+' cells have a positive response.')\n",
    "colors  = ['lightcoral', 'lightskyblue']\n",
    "labels = ['positive response','suppression only']\n",
    "plt.pie([n1,Ncells-n1], colors=colors, startangle=90,labels=labels, autopct='%1.0f%%');\n",
    "#plt.legend(patches, labels, loc=\"best\")\n",
    "plt.axis('equal')\n",
    "plt.show()"
   ]
  },
  {
   "cell_type": "code",
   "execution_count": null,
   "metadata": {
    "collapsed": false
   },
   "outputs": [],
   "source": [
    "TCfeatures = eval(Celltype+'features')\n",
    "TCfeaturesToPlot = TCfeatures['MiscParams']\n",
    "TCparamNames = TCfeatures['MiscParamsNames']\n",
    "ParamsLabels = TCfeatures['MiscParamsLabels']\n",
    "\n",
    "%matplotlib inline\n",
    "betterOrder = [10,4,2,7,5,9,11,12]\n",
    "tcfplot.makeHistograms(TCfeaturesToPlot, TCparamNames,ParamsLabels, CelltypeLabel,betterOrder,nbins=15,cell_inds=cellinds)\n",
    "print(\"Ncells = %1.0f\" % n1)"
   ]
  },
  {
   "cell_type": "code",
   "execution_count": null,
   "metadata": {
    "collapsed": false
   },
   "outputs": [],
   "source": [
    "TCfeatures = eval(Celltype+'features')\n",
    "\n",
    "TCfeaturesToPlot = TCfeatures['CarandiniParams']\n",
    "TCparamNames = TCfeatures['CarandiniParamsNames']\n",
    "ParamsLabels = TCfeatures['CarandiniParamsLabels']\n",
    "\n",
    "%matplotlib inline\n",
    "\n",
    "betterOrder = [2,3,5,6] #list(range(1,7))\n",
    "tcfplot.makeHistograms(TCfeaturesToPlot, TCparamNames,ParamsLabels, CelltypeLabel,betterOrder,figsize=(8,10),nbins=15,cell_inds=cellinds)\n",
    "print(\"Ncells = %1.0f\" % n1)"
   ]
  },
  {
   "cell_type": "markdown",
   "metadata": {},
   "source": [
    "<style type=\"text/css\">\n",
    "body  {\n",
    "   background-color:#E8E2E8;\n",
    "};\n",
    "</style>\n",
    "<font color=#dd8010 size=\"4\">\n",
    "Summary: It didn't really make a difference"
   ]
  },
  {
   "cell_type": "markdown",
   "metadata": {},
   "source": [
    "# Limiting to SI>0 cells"
   ]
  },
  {
   "cell_type": "code",
   "execution_count": null,
   "metadata": {
    "collapsed": false
   },
   "outputs": [],
   "source": [
    "%matplotlib inline\n",
    "cellinds = np.nonzero(TCfeatures['MiscParams']['SuppInd_wBL']>0)[0] #== np.nonzero(TCfeatures['RawMiscParams']['prefBW']>0)[0])\n",
    "n1 = len(cellinds)\n",
    "Ncells = TCfeatures['Ncells']\n",
    "perc = 100*n1//Ncells\n",
    "#print(('\\n\\n %i%% (or %i/%i)   of ' % (perc,len(cellinds),TCfeatures['Ncells']))+CelltypeLabel+' cells have a positive response.')\n",
    "print(('\\n\\n %i/%i  of ' % (len(cellinds),TCfeatures['Ncells']))+CelltypeLabel+' cells have a suppression index > 0.')\n",
    "colors  = ['lightcoral', 'lightskyblue']\n",
    "labels = ['SI > 0','SI = 0']\n",
    "plt.pie([n1,Ncells-n1], colors=colors, startangle=90,labels=labels, autopct='%1.0f%%');\n",
    "#plt.legend(patches, labels, loc=\"best\")\n",
    "plt.axis('equal')\n",
    "plt.show()"
   ]
  },
  {
   "cell_type": "code",
   "execution_count": null,
   "metadata": {
    "collapsed": false
   },
   "outputs": [],
   "source": [
    "TCfeatures = eval(Celltype+'features')\n",
    "TCfeaturesToPlot = TCfeatures['MiscParams']\n",
    "TCparamNames = TCfeatures['MiscParamsNames']\n",
    "ParamsLabels = TCfeatures['MiscParamsLabels']\n",
    "\n",
    "%matplotlib inline\n",
    "betterOrder = [10,4,2,7,5,9,11,12]\n",
    "tcfplot.makeHistograms(TCfeaturesToPlot, TCparamNames,ParamsLabels, CelltypeLabel,betterOrder,nbins=15,cell_inds=cellinds)\n",
    "print(\"Ncells = %1.0f\" % n1)"
   ]
  },
  {
   "cell_type": "code",
   "execution_count": null,
   "metadata": {
    "collapsed": false
   },
   "outputs": [],
   "source": [
    "TCfeatures = eval(Celltype+'features')\n",
    "\n",
    "TCfeaturesToPlot = TCfeatures['CarandiniParams']\n",
    "TCparamNames = TCfeatures['CarandiniParamsNames']\n",
    "ParamsLabels = TCfeatures['CarandiniParamsLabels']\n",
    "\n",
    "%matplotlib inline\n",
    "\n",
    "betterOrder = [2,3,5,6] #list(range(1,7))\n",
    "tcfplot.makeHistograms(TCfeaturesToPlot, TCparamNames,ParamsLabels, CelltypeLabel,betterOrder,figsize=(8,10),nbins=15,cell_inds=cellinds)\n",
    "print(\"Ncells = %1.0f\" % n1)"
   ]
  },
  {
   "cell_type": "code",
   "execution_count": null,
   "metadata": {
    "collapsed": true
   },
   "outputs": [],
   "source": []
  }
 ],
 "metadata": {
  "kernelspec": {
   "display_name": "Python 3",
   "language": "python",
   "name": "python3"
  },
  "language_info": {
   "codemirror_mode": {
    "name": "ipython",
    "version": 3
   },
   "file_extension": ".py",
   "mimetype": "text/x-python",
   "name": "python",
   "nbconvert_exporter": "python",
   "pygments_lexer": "ipython3",
   "version": "3.5.1"
  }
 },
 "nbformat": 4,
 "nbformat_minor": 0
}
