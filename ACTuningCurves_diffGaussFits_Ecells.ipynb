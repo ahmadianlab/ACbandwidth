{
 "cells": [
  {
   "cell_type": "markdown",
   "metadata": {},
   "source": [
    "# <font color=blue size=\"10\">Analyze fit tuning curves of \"E\"</font>"
   ]
  },
  {
   "cell_type": "markdown",
   "metadata": {},
   "source": [
    "We use the functional form (__\"Carandini Form\"__) from Ayaz et al. (2013) (https://www.ncbi.nlm.nih.gov/pubmed/23664971) to fit the bandwidth tuning curves"
   ]
  },
  {
   "cell_type": "code",
   "execution_count": 2,
   "metadata": {
    "collapsed": false
   },
   "outputs": [
    {
     "data": {
      "text/plain": [
       "<module 'tuning_curve_feature_plotting' from '/Users/yashar/Google-Drive/Documents/Work/Projects/AuditoryContextualModul/Matlab/tuning_curve_feature_plotting.py'>"
      ]
     },
     "execution_count": 2,
     "metadata": {},
     "output_type": "execute_result"
    }
   ],
   "source": [
    "import numpy as np\n",
    "import matplotlib.pyplot as plt\n",
    "import time\n",
    "import tqdm\n",
    "from importlib import reload\n",
    "#from tuning_curve_fit_funcs import carandini_fit_wStats\n",
    "import tuning_curve_fit_funcs as tcfits\n",
    "import tuning_curve_feature_plotting as tcfplot\n",
    "reload(tcfits)\n",
    "reload(tcfplot)"
   ]
  },
  {
   "cell_type": "code",
   "execution_count": 3,
   "metadata": {
    "collapsed": false
   },
   "outputs": [
    {
     "name": "stdout",
     "output_type": "stream",
     "text": [
      "PVonsetResponses\n",
      "PVsustainedResponses\n",
      "SOMonsetResponses\n",
      "SOMsustainedResponses\n",
      "PVsustainedBaselineSpikeRates\n",
      "ACsustainedResponses\n",
      "stimulusBandwidth\n",
      "AConsetBaselineSpikeRates\n",
      "AConsetResponses\n",
      "PVonsetBaselineSpikeRates\n",
      "SOMsustainedBaselineSpikeRates\n",
      "ACsustainedBaselineSpikeRates\n",
      "SOMonsetBaselineSpikeRates\n"
     ]
    }
   ],
   "source": [
    "DATA_DIR = '/Users/yashar/Google-Drive/Documents/Work/Projects/AuditoryContextualModul/Matlab/Lakunina-Jaramillo-Data/'\n",
    "filename = 'photoidentified_cells_responsesTCs_new.npz'\n",
    "data = np.load(DATA_DIR + filename)\n",
    "print(\"\\n\".join(data.keys())) #:gives the list of arrays in the file\n",
    "data.close()"
   ]
  },
  {
   "cell_type": "code",
   "execution_count": 4,
   "metadata": {
    "collapsed": true
   },
   "outputs": [],
   "source": [
    "BLisZeroBW = True #whether to replace pure tone evoked rates with baseline (spontaneous) rates\n",
    "WNoctave = 6 #what BW (in octaves) to attribute to white noise stimulus"
   ]
  },
  {
   "cell_type": "markdown",
   "metadata": {},
   "source": [
    "# Fitting unindentified (thus majority excitatory) AC cells"
   ]
  },
  {
   "cell_type": "code",
   "execution_count": 5,
   "metadata": {
    "collapsed": false
   },
   "outputs": [
    {
     "name": "stderr",
     "output_type": "stream",
     "text": [
      "  0%|          | 0/120 [00:00<?, ?it/s]/Users/yashar/Google-Drive/Documents/Work/Projects/AuditoryContextualModul/Matlab/tuning_curve_fit_funcs.py:124: RuntimeWarning: divide by zero encountered in double_scalars\n",
      "  Stats['SuppInd'] = 1 - Stats['wnResp']/Stats['maxResp']\n",
      " 33%|███▎      | 40/120 [01:25<02:51,  2.15s/it]"
     ]
    },
    {
     "name": "stdout",
     "output_type": "stream",
     "text": [
      "Could not fit Carandini curve to tuning data with the 0-th initialization set.\n",
      "Could not fit Carandini curve to tuning data with the 2-th initialization set.\n",
      "Could not fit Carandini curve to tuning data with the 3-th initialization set.\n",
      "Could not fit Carandini curve to tuning data with the 4-th initialization set.\n",
      "Could not fit Carandini curve to tuning data with the 5-th initialization set.\n"
     ]
    },
    {
     "name": "stderr",
     "output_type": "stream",
     "text": [
      "\r",
      " 35%|███▌      | 42/120 [01:59<03:41,  2.83s/it]"
     ]
    },
    {
     "name": "stdout",
     "output_type": "stream",
     "text": [
      "Could not fit Carandini curve to tuning data with the 7-th initialization set.\n",
      "Could not fit Carandini curve to tuning data with the 0-th initialization set.\n",
      "Could not fit Carandini curve to tuning data with the 1-th initialization set.\n",
      "Could not fit Carandini curve to tuning data with the 2-th initialization set.\n",
      "Could not fit Carandini curve to tuning data with the 4-th initialization set.\n",
      "Could not fit Carandini curve to tuning data with the 5-th initialization set.\n",
      "Could not fit Carandini curve to tuning data with the 6-th initialization set.\n"
     ]
    },
    {
     "name": "stderr",
     "output_type": "stream",
     "text": [
      " 38%|███▊      | 45/120 [02:37<04:22,  3.50s/it]"
     ]
    },
    {
     "name": "stdout",
     "output_type": "stream",
     "text": [
      "Could not fit Carandini curve to tuning data with the 7-th initialization set.\n"
     ]
    },
    {
     "name": "stderr",
     "output_type": "stream",
     "text": [
      " 59%|█████▉    | 71/120 [03:14<02:14,  2.74s/it]"
     ]
    },
    {
     "name": "stdout",
     "output_type": "stream",
     "text": [
      "Could not fit Carandini curve to tuning data with the 0-th initialization set.\n",
      "Could not fit Carandini curve to tuning data with the 2-th initialization set.\n",
      "Could not fit Carandini curve to tuning data with the 4-th initialization set.\n",
      "Could not fit Carandini curve to tuning data with the 5-th initialization set.\n",
      "Could not fit Carandini curve to tuning data with the 6-th initialization set.\n"
     ]
    },
    {
     "name": "stderr",
     "output_type": "stream",
     "text": [
      "\r",
      " 60%|██████    | 72/120 [03:46<02:31,  3.15s/it]"
     ]
    },
    {
     "name": "stdout",
     "output_type": "stream",
     "text": [
      "Could not fit Carandini curve to tuning data with the 7-th initialization set.\n"
     ]
    },
    {
     "name": "stderr",
     "output_type": "stream",
     "text": [
      " 69%|██████▉   | 83/120 [03:50<01:42,  2.78s/it]"
     ]
    },
    {
     "name": "stdout",
     "output_type": "stream",
     "text": [
      "Could not fit Carandini curve to tuning data with the 2-th initialization set.\n",
      "Could not fit Carandini curve to tuning data with the 5-th initialization set.\n",
      "Could not fit Carandini curve to tuning data with the 6-th initialization set.\n"
     ]
    },
    {
     "name": "stderr",
     "output_type": "stream",
     "text": [
      "\r",
      " 70%|███████   | 84/120 [04:19<01:51,  3.08s/it]"
     ]
    },
    {
     "name": "stdout",
     "output_type": "stream",
     "text": [
      "Could not fit Carandini curve to tuning data with the 7-th initialization set.\n"
     ]
    },
    {
     "name": "stderr",
     "output_type": "stream",
     "text": [
      " 84%|████████▍ | 101/120 [04:52<00:54,  2.89s/it]"
     ]
    },
    {
     "name": "stdout",
     "output_type": "stream",
     "text": [
      "Could not fit Carandini curve to tuning data with the 4-th initialization set.\n"
     ]
    },
    {
     "name": "stderr",
     "output_type": "stream",
     "text": [
      " 93%|█████████▎| 112/120 [05:04<00:21,  2.72s/it]"
     ]
    },
    {
     "name": "stdout",
     "output_type": "stream",
     "text": [
      "Could not fit Carandini curve to tuning data with the 1-th initialization set.\n",
      "Could not fit Carandini curve to tuning data with the 4-th initialization set.\n"
     ]
    },
    {
     "name": "stderr",
     "output_type": "stream",
     "text": [
      " 99%|█████████▉| 119/120 [05:44<00:02,  2.89s/it]"
     ]
    },
    {
     "name": "stdout",
     "output_type": "stream",
     "text": [
      "Could not fit Carandini curve to tuning data with the 5-th initialization set.\n"
     ]
    },
    {
     "name": "stderr",
     "output_type": "stream",
     "text": [
      "\r",
      "100%|██████████| 120/120 [06:06<00:00,  3.06s/it]"
     ]
    },
    {
     "name": "stdout",
     "output_type": "stream",
     "text": [
      "\n",
      " Elapsed time was 366.866 seconds\n"
     ]
    },
    {
     "name": "stderr",
     "output_type": "stream",
     "text": [
      "\n"
     ]
    }
   ],
   "source": [
    "#fit all \"excitatory\" cells \n",
    "Celltype = 'AC'\n",
    "CelltypeLabel = '\"excitatory\"'\n",
    "Response_type = 'sustained'\n",
    "\n",
    "StatsList, ParamsList, GOFlist, fitTCs, rawTCs, test_BWs, Bandwidths, Baselines =\\\n",
    "     tcfits.FitAllCells(DATA_DIR + filename, Celltype, Response_type, BLisZeroBW,\\\n",
    "                             WNoctave,  mFixed=True, function_class_fit= diff_of_gauss_fit)\n",
    "    \n",
    "ACfeatures = tcfits.makeFeaturesDict(GOFlist,StatsList,ParamsList,rawTCs,fitTCs,\\\n",
    "                                     Bandwidths,test_BWs,Baselines,BLisZeroBW,Celltype,Response_type)"
   ]
  },
  {
   "cell_type": "markdown",
   "metadata": {},
   "source": [
    "### Goodness of fit"
   ]
  },
  {
   "cell_type": "code",
   "execution_count": 6,
   "metadata": {
    "collapsed": false,
    "scrolled": true
   },
   "outputs": [
    {
     "data": {
      "image/png": "[encoded data removed]",
      "text/plain": [
       "<Figure size 600x400 with 1 Axes>"
      ]
     },
     "metadata": {},
     "output_type": "display_data"
    }
   ],
   "source": [
    "TCfeatures = eval(Celltype+'features')\n",
    "\n",
    "%matplotlib inline\n",
    "\n",
    "R2 = TCfeatures['GoF']['R2']\n",
    "R2Label = TCfeatures['GoFLabels']['R2']\n",
    "#fig = plt.figure(figsize=(10,5))\n",
    "n, bins, patches = plt.hist(R2, 15, facecolor='g',alpha=0.7)\n",
    "plt.axvline(x=np.median(R2),c='g',linestyle='--')\n",
    "plt.xlabel(R2Label)\n",
    "plt.ylabel(CelltypeLabel+ ' Cell Count')\n",
    "plt.text(np.median(R2)*.7, 30, 'median('+R2Label+') = %1.2f' % np.median(R2))\n",
    "#plt.axis([40, 160, 0, 0.03])\n",
    "#plt.grid(True)\n",
    "plt.show()"
   ]
  },
  {
   "cell_type": "code",
   "execution_count": 11,
   "metadata": {
    "collapsed": false
   },
   "outputs": [
    {
     "data": {
      "image/png": "[encoded data removed]",
      "text/plain": [
       "<Figure size 600x400 with 1 Axes>"
      ]
     },
     "metadata": {},
     "output_type": "display_data"
    }
   ],
   "source": [
    "#visualize all fits, from worse to best\n",
    "import pylab as pl\n",
    "from IPython import display\n",
    "\n",
    "R2inds = np.argsort(R2)\n",
    "for cel in R2inds[:]:\n",
    "    pl.clf()\n",
    "    baseline = TCfeatures['Baselines'][cel]\n",
    "    pl.plot(test_BWs, baseline + TCfeatures['fitTCs'][:,cel],'r-',label='fit curve ('+R2Label+' = %1.2f)' % R2[cel])\n",
    "    pl.plot(Bandwidths, baseline + TCfeatures['rawTCs'][:,cel],'bo-',label='data')\n",
    "    pl.plot(Bandwidths, baseline*(1+0*Bandwidths),'k--',label='baseline')\n",
    "    pl.xlabel('Bandwidth (Octave)')\n",
    "    pl.ylabel('Rate (Hz)')\n",
    "    pl.legend()\n",
    "#     xs1 = np.asarray(pl.gca().get_xlim())\n",
    "#     ys1 = np.asarray(pl.gca().get_ylim())\n",
    "#     pl.text(xs1[0] + .5 * np.diff(xs1),ys1[0] + .6 * np.diff(ys1),'$R^2$ = %1.2f' % R2[R2inds])\n",
    "    pl.text(3,baseline*1.05,'$R_S$ = %1.2f' % TCfeatures['CarandiniParams']['RS'][cel])\n",
    "    \n",
    "    display.display(pl.gcf())\n",
    "    display.clear_output(wait=True)\n",
    "    time.sleep(.25)\n",
    "    if TCfeatures['CarandiniParams']['RS'][cel] > 19:\n",
    "        time.sleep(.25)"
   ]
  },
  {
   "cell_type": "code",
   "execution_count": null,
   "metadata": {
    "collapsed": true
   },
   "outputs": [],
   "source": []
  },
  {
   "cell_type": "code",
   "execution_count": null,
   "metadata": {
    "collapsed": false
   },
   "outputs": [],
   "source": [
    "TCfeaturesToPlot = TCfeatures['MiscParams'].copy()#copying dictionary\n",
    "TCfeaturesToPlot['R2'] = TCfeatures['GoF']['R2'] #adding R^2\n",
    "TCparamNames = TCfeatures['MiscParamsNames'][:] #copying list\n",
    "TCparamNames.insert(0,'R2')#'R2' is first name in list\n",
    "print(\" , \".join(TCparamNames))\n",
    "ParamsLabels = TCfeatures['MiscParamsLabels'].copy()#copying dictionary\n",
    "ParamsLabels['R2'] = TCfeatures['GoFLabels']['R2']\n",
    "\n",
    "betterOrder = [10,1,4,3,2,7,5,9,11,12,8,6]\n",
    "ylist = range(1,12+1)\n",
    "pairs = [[0, betterOrder[k-1]] for k in ylist] \n",
    "tcfplot.makeScatterPlots(TCfeaturesToPlot, TCparamNames, ParamsLabels, pairs,figsize=(13,10),cols=4,wspace=.4,linecolor='r')\n",
    "\n",
    "del(TCfeaturesToPlot,ParamsLabels,TCparamNames)"
   ]
  },
  {
   "cell_type": "markdown",
   "metadata": {},
   "source": [
    "<style type=\"text/css\">\n",
    "body  {\n",
    "   background-color:#E8E2E8;\n",
    "};\n",
    "</style>\n",
    "<font color=#dd8010 size=\"4\">\n",
    "So there seems to be a weak relationship: cells with stronger response/rate have better fits"
   ]
  },
  {
   "cell_type": "code",
   "execution_count": null,
   "metadata": {
    "collapsed": false
   },
   "outputs": [],
   "source": [
    "TCfeaturesToPlot = TCfeatures['CarandiniParams'].copy()#copying dictionary\n",
    "TCfeaturesToPlot['R2'] = TCfeatures['GoF']['R2'] #adding R^2\n",
    "TCparamNames = TCfeatures['CarandiniParamsNames'][:] #copying list\n",
    "TCparamNames.insert(0,'R2')#'R2' is first name in list\n",
    "print(\" , \".join(TCparamNames))\n",
    "ParamsLabels = TCfeatures['CarandiniParamsLabels'].copy()#copying dictionary\n",
    "ParamsLabels['R2'] = TCfeatures['GoFLabels']['R2']\n",
    "\n",
    "#betterOrder = [10,1,4,3,2,7,5,9,11,12,8,6]\n",
    "ylist = range(1,6)\n",
    "betterOrder = ylist\n",
    "pairs = [[0, betterOrder[k-1]] for k in ylist] \n",
    "tcfplot.makeScatterPlots(TCfeaturesToPlot, TCparamNames, ParamsLabels, pairs,figsize=(13,8),cols=3,wspace=.3,linecolor='r')\n",
    "\n",
    "del(TCfeaturesToPlot,ParamsLabels,TCparamNames)"
   ]
  },
  {
   "cell_type": "markdown",
   "metadata": {},
   "source": [
    "## Tuning curve feature distributions"
   ]
  },
  {
   "cell_type": "code",
   "execution_count": null,
   "metadata": {
    "collapsed": false
   },
   "outputs": [],
   "source": [
    "TCfeatures = eval(Celltype+'features')\n",
    "\n",
    "TCfeaturesToPlot = TCfeatures['MiscParams']\n",
    "TCparamNames = TCfeatures['MiscParamsNames']\n",
    "ParamsLabels = TCfeatures['MiscParamsLabels']\n",
    "print(\" , \".join(TCparamNames))"
   ]
  },
  {
   "cell_type": "code",
   "execution_count": null,
   "metadata": {
    "collapsed": false
   },
   "outputs": [],
   "source": [
    "%matplotlib inline\n",
    "\n",
    "betterOrder = [10,1,4,3,2,7,5,9,11,12,8,6]\n",
    "tcfplot.makeHistograms(TCfeaturesToPlot, TCparamNames,ParamsLabels, CelltypeLabel,betterOrder)"
   ]
  },
  {
   "cell_type": "markdown",
   "metadata": {},
   "source": [
    "#### Correlations of preferred BW with other quantities:"
   ]
  },
  {
   "cell_type": "code",
   "execution_count": null,
   "metadata": {
    "collapsed": false
   },
   "outputs": [],
   "source": [
    "pairs = [(5,1),(6,1),(8,1),(9,1),(10,1),(3,1)]\n",
    "pairs = [[betterOrder[i-1]-1 for i in p] for p in pairs] \n",
    "tcfplot.makeScatterPlots(TCfeaturesToPlot, TCparamNames, ParamsLabels, pairs,uniformYs=True,figsize=(15,10))"
   ]
  },
  {
   "cell_type": "markdown",
   "metadata": {},
   "source": [
    "#### Correlations of *Suppression Index* with other quantities:"
   ]
  },
  {
   "cell_type": "code",
   "execution_count": null,
   "metadata": {
    "collapsed": false
   },
   "outputs": [],
   "source": [
    "pairs = [(5,3),(6,3),(8,3),(9,3),(10,3),(1,3)]\n",
    "pairs = [[betterOrder[i-1]-1 for i in p] for p in pairs] \n",
    "tcfplot.makeScatterPlots(TCfeaturesToPlot, TCparamNames, ParamsLabels, pairs,uniformYs=True,figsize=(15,10))"
   ]
  },
  {
   "cell_type": "markdown",
   "metadata": {},
   "source": [
    "#### Correlations of rates and responses (not interesting)"
   ]
  },
  {
   "cell_type": "code",
   "execution_count": null,
   "metadata": {
    "collapsed": false
   },
   "outputs": [],
   "source": [
    "inds = range(5,13) #for rates\n",
    "pairs = [(j,i) for i in inds for j in inds]\n",
    "pairs = [[betterOrder[i-1]-1 for i in p] for p in pairs] \n",
    "tcfplot.makeScatterPlots(TCfeaturesToPlot, TCparamNames, ParamsLabels, \\\n",
    "                 pairs,cols=len(inds),figsize=(27/1.5,23/1.5),hspace=.4,wspace=.4,uniformYs=True,symm=True)"
   ]
  },
  {
   "cell_type": "markdown",
   "metadata": {},
   "source": [
    "## Carandini parameters"
   ]
  },
  {
   "cell_type": "code",
   "execution_count": null,
   "metadata": {
    "collapsed": false
   },
   "outputs": [],
   "source": [
    "TCfeatures = eval(Celltype+'features')\n",
    "\n",
    "TCfeaturesToPlot = TCfeatures['CarandiniParams']\n",
    "TCparamNames = TCfeatures['CarandiniParamsNames']\n",
    "ParamsLabels = TCfeatures['CarandiniParamsLabels']\n",
    "print(\" , \".join(TCparamNames))"
   ]
  },
  {
   "cell_type": "code",
   "execution_count": null,
   "metadata": {
    "collapsed": false
   },
   "outputs": [],
   "source": [
    "%matplotlib inline\n",
    "\n",
    "betterOrder = list(range(1,7))\n",
    "tcfplot.makeHistograms(TCfeaturesToPlot, TCparamNames,ParamsLabels, CelltypeLabel,betterOrder,figsize=(8,10))"
   ]
  },
  {
   "cell_type": "code",
   "execution_count": null,
   "metadata": {
    "collapsed": false
   },
   "outputs": [],
   "source": [
    "inds = range(5)\n",
    "pairs = [(j,i) for i in inds for j in inds]\n",
    "#pairs = [[betterOrder[i-1]-1 for i in p] for p in pairs] \n",
    "tcfplot.makeScatterPlots(TCfeaturesToPlot, TCparamNames, ParamsLabels, \\\n",
    "                 pairs,cols=len(inds),figsize=(14,14),hspace=.4,wspace=.4,symm=True)"
   ]
  },
  {
   "cell_type": "code",
   "execution_count": null,
   "metadata": {
    "collapsed": true
   },
   "outputs": [],
   "source": []
  }
 ],
 "metadata": {
  "kernelspec": {
   "display_name": "Python 3",
   "language": "python",
   "name": "python3"
  },
  "language_info": {
   "codemirror_mode": {
    "name": "ipython",
    "version": 3
   },
   "file_extension": ".py",
   "mimetype": "text/x-python",
   "name": "python",
   "nbconvert_exporter": "python",
   "pygments_lexer": "ipython3",
   "version": "3.5.1"
  }
 },
 "nbformat": 4,
 "nbformat_minor": 0
}
