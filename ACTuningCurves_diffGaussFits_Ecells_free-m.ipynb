{
 "cells": [
  {
   "cell_type": "markdown",
   "metadata": {},
   "source": [
    "# <font color=blue size=\"10\">Analyze fit tuning curves of \"E\"</font>"
   ]
  },
  {
   "cell_type": "markdown",
   "metadata": {},
   "source": [
    "We use the functional derived from a difference of gaussians (Mexican hat) to fit the bandwidth tuning curves"
   ]
  },
  {
   "cell_type": "code",
   "execution_count": 1,
   "metadata": {
    "collapsed": false
   },
   "outputs": [
    {
     "data": {
      "text/plain": [
       "<module 'tuning_curve_feature_plotting' from '/Users/yashar/Google-Drive/Documents/Work/Projects/AuditoryContextualModul/Matlab/tuning_curve_feature_plotting.py'>"
      ]
     },
     "execution_count": 1,
     "metadata": {},
     "output_type": "execute_result"
    }
   ],
   "source": [
    "import numpy as np\n",
    "import matplotlib.pyplot as plt\n",
    "import time\n",
    "import tqdm\n",
    "from importlib import reload\n",
    "#from tuning_curve_fit_funcs import carandini_fit_wStats\n",
    "import tuning_curve_fit_funcs as tcfits\n",
    "import tuning_curve_feature_plotting as tcfplot\n",
    "reload(tcfits)\n",
    "reload(tcfplot)"
   ]
  },
  {
   "cell_type": "code",
   "execution_count": 2,
   "metadata": {
    "collapsed": false
   },
   "outputs": [
    {
     "name": "stdout",
     "output_type": "stream",
     "text": [
      "PVonsetResponses\n",
      "PVsustainedResponses\n",
      "SOMonsetResponses\n",
      "SOMsustainedResponses\n",
      "PVsustainedBaselineSpikeRates\n",
      "ACsustainedResponses\n",
      "stimulusBandwidth\n",
      "AConsetBaselineSpikeRates\n",
      "AConsetResponses\n",
      "PVonsetBaselineSpikeRates\n",
      "SOMsustainedBaselineSpikeRates\n",
      "ACsustainedBaselineSpikeRates\n",
      "SOMonsetBaselineSpikeRates\n"
     ]
    }
   ],
   "source": [
    "DATA_DIR = '/Users/yashar/Google-Drive/Documents/Work/Projects/AuditoryContextualModul/Matlab/Lakunina-Jaramillo-Data/'\n",
    "filename = 'photoidentified_cells_responsesTCs_new.npz'\n",
    "data = np.load(DATA_DIR + filename)\n",
    "print(\"\\n\".join(data.keys())) #:gives the list of arrays in the file\n",
    "data.close()"
   ]
  },
  {
   "cell_type": "code",
   "execution_count": 3,
   "metadata": {
    "collapsed": true
   },
   "outputs": [],
   "source": [
    "BLisZeroBW = True #whether to replace pure tone evoked rates with baseline (spontaneous) rates\n",
    "WNoctave = 6 #what BW (in octaves) to attribute to white noise stimulus"
   ]
  },
  {
   "cell_type": "markdown",
   "metadata": {},
   "source": [
    "# Fitting \"E\" cells"
   ]
  },
  {
   "cell_type": "code",
   "execution_count": 4,
   "metadata": {
    "collapsed": false
   },
   "outputs": [
    {
     "name": "stderr",
     "output_type": "stream",
     "text": [
      "  0%|          | 0/120 [00:00<?, ?it/s]/Users/yashar/Google-Drive/Documents/Work/Projects/AuditoryContextualModul/Matlab/tuning_curve_fit_funcs.py:221: RuntimeWarning: divide by zero encountered in double_scalars\n",
      "  Stats['SuppInd'] = 1 - Stats['wnResp']/Stats['maxResp']\n",
      "/Users/yashar/Google-Drive/Documents/Work/Projects/AuditoryContextualModul/Matlab/tuning_curve_fit_funcs.py:230: RuntimeWarning: divide by zero encountered in double_scalars\n",
      "  RawStats['SuppInd'] = 1 - RawStats['wnResp']/RawStats['maxResp']\n",
      "100%|██████████| 120/120 [00:23<00:00,  5.17it/s]"
     ]
    },
    {
     "name": "stdout",
     "output_type": "stream",
     "text": [
      "\n",
      " Elapsed time was 23.2174 seconds\n"
     ]
    },
    {
     "name": "stderr",
     "output_type": "stream",
     "text": [
      "\n"
     ]
    }
   ],
   "source": [
    "#fit all \"E\" cells \n",
    "Celltype = 'AC'\n",
    "CelltypeLabel = '\"E\"'\n",
    "Response_type = 'sustained'\n",
    "mExp = None\n",
    "\n",
    "ACfeatures = tcfits.FitAllCells(DATA_DIR + filename, Celltype, Response_type, BLisZeroBW,\\\n",
    "                             WNoctave,  mFixed=mExp, function_class_fit= \"diff_of_gauss_fit\")"
   ]
  },
  {
   "cell_type": "markdown",
   "metadata": {},
   "source": [
    "### Goodness of fit"
   ]
  },
  {
   "cell_type": "code",
   "execution_count": 5,
   "metadata": {
    "collapsed": false,
    "scrolled": true
   },
   "outputs": [
    {
     "ename": "NameError",
     "evalue": "name 'ACfeatures' is not defined",
     "output_type": "error",
     "traceback": [
      "\u001b[0;31m---------------------------------------------------------------------------\u001b[0m",
      "\u001b[0;31mNameError\u001b[0m                                 Traceback (most recent call last)",
      "\u001b[0;32m<ipython-input-5-dac8d35bbbae>\u001b[0m in \u001b[0;36m<module>\u001b[0;34m()\u001b[0m\n\u001b[0;32m----> 1\u001b[0;31m \u001b[0mTCfeatures\u001b[0m \u001b[0;34m=\u001b[0m \u001b[0meval\u001b[0m\u001b[0;34m(\u001b[0m\u001b[0mCelltype\u001b[0m\u001b[0;34m+\u001b[0m\u001b[0;34m'features'\u001b[0m\u001b[0;34m)\u001b[0m\u001b[0;34m\u001b[0m\u001b[0m\n\u001b[0m\u001b[1;32m      2\u001b[0m \u001b[0mtest_BWs\u001b[0m \u001b[0;34m=\u001b[0m \u001b[0mTCfeatures\u001b[0m\u001b[0;34m[\u001b[0m\u001b[0;34m'test_BWs'\u001b[0m\u001b[0;34m]\u001b[0m\u001b[0;34m\u001b[0m\u001b[0m\n\u001b[1;32m      3\u001b[0m \u001b[0mBandwidths\u001b[0m \u001b[0;34m=\u001b[0m \u001b[0mTCfeatures\u001b[0m\u001b[0;34m[\u001b[0m\u001b[0;34m'Bandwidths'\u001b[0m\u001b[0;34m]\u001b[0m\u001b[0;34m\u001b[0m\u001b[0m\n\u001b[1;32m      4\u001b[0m \u001b[0;34m\u001b[0m\u001b[0m\n\u001b[1;32m      5\u001b[0m \u001b[0mget_ipython\u001b[0m\u001b[0;34m(\u001b[0m\u001b[0;34m)\u001b[0m\u001b[0;34m.\u001b[0m\u001b[0mmagic\u001b[0m\u001b[0;34m(\u001b[0m\u001b[0;34m'matplotlib inline'\u001b[0m\u001b[0;34m)\u001b[0m\u001b[0;34m\u001b[0m\u001b[0m\n",
      "\u001b[0;32m<string>\u001b[0m in \u001b[0;36m<module>\u001b[0;34m()\u001b[0m\n",
      "\u001b[0;31mNameError\u001b[0m: name 'ACfeatures' is not defined"
     ]
    }
   ],
   "source": [
    "TCfeatures = eval(Celltype+'features')\n",
    "test_BWs = TCfeatures['test_BWs']\n",
    "Bandwidths = TCfeatures['Bandwidths']\n",
    "\n",
    "%matplotlib inline\n",
    "\n",
    "R2 = TCfeatures['GoF']['R2']\n",
    "R2Label = TCfeatures['GoFLabels']['R2']\n",
    "#fig = plt.figure(figsize=(10,5))\n",
    "n, bins, patches = plt.hist(R2, 15, facecolor='g',alpha=0.7)\n",
    "plt.axvline(x=np.median(R2),c='r',linestyle='--')\n",
    "plt.axvline(x=np.mean(R2),c='g',linestyle='--')\n",
    "plt.xlabel(R2Label)\n",
    "plt.ylabel(CelltypeLabel+ ' Cell Count')\n",
    "plt.text(np.median(R2)*.7, 7, 'median('+R2Label+') = %1.2f' % np.median(R2))\n",
    "plt.text(np.mean(R2)*.7, 6, 'mean('+R2Label+') = %1.2f' % np.mean(R2))\n",
    "#plt.axis([40, 160, 0, 0.03])\n",
    "#plt.grid(True)\n",
    "plt.show()"
   ]
  },
  {
   "cell_type": "code",
   "execution_count": null,
   "metadata": {
    "collapsed": false
   },
   "outputs": [],
   "source": [
    "#visualize all fits, from worse to best\n",
    "import pylab as pl\n",
    "from IPython import display\n",
    "\n",
    "R2inds = np.argsort(R2)\n",
    "for cel in R2inds[:]:\n",
    "    pl.clf()\n",
    "    baseline = TCfeatures['Baselines'][cel]\n",
    "    pl.plot(test_BWs,baseline + TCfeatures['fitTCs'][:,cel],'r-',label='fit curve ('+R2Label+' = %1.2f)' % R2[cel])\n",
    "    pl.plot(Bandwidths, baseline + TCfeatures['rawTCs'][:,cel],'bo-',label='data')\n",
    "    pl.plot(Bandwidths, baseline*(1+0*Bandwidths),'k--',label='baseline')\n",
    "    ys = np.asarray(pl.gca().get_ylim())    \n",
    "#    pl.text(np.mean(R2)*.7, 30, 'mean('+R2Label+') = %1.2f' % np.mean(R2))\n",
    "    pl.plot(TCfeatures['MiscParams']['prefBW'][cel] + 0*ys, baseline + np.linspace(-.5,.5,2)*np.diff(ys)/2,'g-',label='pref BW')\n",
    "    pl.plot(np.linspace(0,1,2)*TCfeatures['CarandiniParams']['sigmaD'][cel], 0*ys + baseline + np.diff(ys)/20,'m-')\n",
    "    pl.plot(np.linspace(0,1,2)*TCfeatures['CarandiniParams']['sigmaS'][cel], 0*ys + baseline - np.diff(ys)/20,'y-')    \n",
    "    pl.text(0.4*TCfeatures['CarandiniParams']['sigmaD'][cel], baseline + np.diff(ys)*1.5/20, '$\\sigma_D$',color='m')\n",
    "    pl.text(0.4*TCfeatures['CarandiniParams']['sigmaS'][cel], baseline - np.diff(ys)*1.7/20, '$\\sigma_S$',color='y')\n",
    "\n",
    "    pars = (TCfeatures['CarandiniParams']['RD'][cel], TCfeatures['CarandiniParams']['RS'][cel],TCfeatures['CarandiniParams']['sigmaD'][cel],TCfeatures['CarandiniParams']['sigmaS'][cel])\n",
    "    pl.text(1,baseline*1.05,'$R_D$ = %2.1f, $R_S$ = %2.1f, $\\sigma_D$ = %2.1f, $\\sigma_S$ = %2.1f' % pars)\n",
    "    pl.xlabel('Bandwidth (Octave)')\n",
    "    pl.ylabel('Rate (Hz)')\n",
    "    pl.legend()\n",
    "    display.display(pl.gcf())\n",
    "    display.clear_output(wait=True)\n",
    "    time.sleep(.05)"
   ]
  },
  {
   "cell_type": "code",
   "execution_count": null,
   "metadata": {
    "collapsed": true
   },
   "outputs": [],
   "source": []
  },
  {
   "cell_type": "code",
   "execution_count": null,
   "metadata": {
    "collapsed": false
   },
   "outputs": [],
   "source": [
    "TCfeaturesToPlot = TCfeatures['MiscParams'].copy()#copying dictionary\n",
    "TCfeaturesToPlot['R2'] = TCfeatures['GoF']['R2'] #adding R^2\n",
    "TCparamNames = TCfeatures['MiscParamsNames'][:] #copying list\n",
    "TCparamNames.insert(0,'R2')#'R2' is first name in list\n",
    "print(\" , \".join(TCparamNames))\n",
    "ParamsLabels = TCfeatures['MiscParamsLabels'].copy()#copying dictionary\n",
    "ParamsLabels['R2'] = TCfeatures['GoFLabels']['R2']\n",
    "\n",
    "betterOrder = [10,1,4,3,2,7,5,9,11,12,8,6]\n",
    "ylist = range(1,12+1)\n",
    "pairs = [[0, betterOrder[k-1]] for k in ylist] \n",
    "tcfplot.makeScatterPlots(TCfeaturesToPlot, TCparamNames, ParamsLabels, pairs,figsize=(13,10),cols=4,wspace=.4,linecolor='r')\n",
    "\n",
    "del(TCfeaturesToPlot,ParamsLabels,TCparamNames)"
   ]
  },
  {
   "cell_type": "markdown",
   "metadata": {},
   "source": [
    "<style type=\"text/css\">\n",
    "body  {\n",
    "   background-color:#E8E2E8;\n",
    "};\n",
    "</style>\n",
    "<font color=#dd8010 size=\"4\">\n",
    "So there seems to be a weak relationship: cells with stronger response/rate have better fits"
   ]
  },
  {
   "cell_type": "code",
   "execution_count": null,
   "metadata": {
    "collapsed": false
   },
   "outputs": [],
   "source": [
    "TCfeaturesToPlot = TCfeatures['CarandiniParams'].copy()#copying dictionary\n",
    "TCfeaturesToPlot['R2'] = TCfeatures['GoF']['R2'] #adding R^2\n",
    "TCparamNames = TCfeatures['CarandiniParamsNames'][:] #copying list\n",
    "TCparamNames.insert(0,'R2')#'R2' is first name in list\n",
    "print(\" , \".join(TCparamNames))\n",
    "ParamsLabels = TCfeatures['CarandiniParamsLabels'].copy()#copying dictionary\n",
    "ParamsLabels['R2'] = TCfeatures['GoFLabels']['R2']\n",
    "\n",
    "#betterOrder = [10,1,4,3,2,7,5,9,11,12,8,6]\n",
    "ylist = range(1,6)\n",
    "betterOrder = ylist\n",
    "pairs = [[0, betterOrder[k-1]] for k in ylist] \n",
    "tcfplot.makeScatterPlots(TCfeaturesToPlot, TCparamNames, ParamsLabels, pairs,figsize=(13,8),cols=3,wspace=.3,linecolor='r')\n",
    "\n",
    "del(TCfeaturesToPlot,ParamsLabels,TCparamNames)"
   ]
  },
  {
   "cell_type": "markdown",
   "metadata": {},
   "source": [
    "## Tuning curve feature distributions"
   ]
  },
  {
   "cell_type": "code",
   "execution_count": null,
   "metadata": {
    "collapsed": false
   },
   "outputs": [],
   "source": [
    "TCfeatures = eval(Celltype+'features')\n",
    "\n",
    "TCfeaturesToPlot = TCfeatures['MiscParams']\n",
    "TCparamNames = TCfeatures['MiscParamsNames']\n",
    "ParamsLabels = TCfeatures['MiscParamsLabels']\n",
    "print(\" , \".join(TCparamNames))"
   ]
  },
  {
   "cell_type": "code",
   "execution_count": null,
   "metadata": {
    "collapsed": false
   },
   "outputs": [],
   "source": [
    "%matplotlib inline\n",
    "\n",
    "betterOrder = [10,1,4,3,2,7,5,9,11,12,8,6]\n",
    "tcfplot.makeHistograms(TCfeaturesToPlot, TCparamNames,ParamsLabels, CelltypeLabel,betterOrder,nbins=15)\n",
    "print(\"Ncells = %1.0f\" % TCfeatures['Ncells'])"
   ]
  },
  {
   "cell_type": "code",
   "execution_count": null,
   "metadata": {
    "collapsed": false
   },
   "outputs": [],
   "source": [
    "betterOrder = [10,1,4,3,2,7,5,9,11,12,8,6]\n",
    "tcfplot.makeHistograms(TCfeatures['RawMiscParams'], TCparamNames,ParamsLabels, CelltypeLabel,betterOrder,nbins=15)\n",
    "print(\"Ncells = %1.0f\" % TCfeatures['Ncells'])"
   ]
  },
  {
   "cell_type": "code",
   "execution_count": null,
   "metadata": {
    "collapsed": false
   },
   "outputs": [],
   "source": [
    "n_ftr = 12\n",
    "pairs = list(zip(range(n_ftr),range(n_ftr)))\n",
    "betterOrder = [10,1,4,3,2,7,5,9,11,12,8,6]\n",
    "pairs = [[betterOrder[i]-1 for i in p] for p in pairs] \n",
    "tcfplot.makeScatterPlots(TCfeaturesToPlot, TCparamNames, ParamsLabels,\\\n",
    "                         pairs,figsize=(15,15),cols=4,hspace = .3, wspace = .4,\\\n",
    "                        yTCfeatures = TCfeatures['RawMiscParams'])\n",
    "print(\"\\n\\n Comparing raw (y-axis) vs. fit-curve-extracted TC features\")"
   ]
  },
  {
   "cell_type": "markdown",
   "metadata": {},
   "source": [
    "#### Correlations of preferred BW with other quantities:"
   ]
  },
  {
   "cell_type": "code",
   "execution_count": null,
   "metadata": {
    "collapsed": false
   },
   "outputs": [],
   "source": [
    "pairs = [(5,1),(6,1),(8,1),(9,1),(10,1),(3,1),(11,1)]\n",
    "pairs = [[betterOrder[i-1]-1 for i in p] for p in pairs] \n",
    "tcfplot.makeScatterPlots(TCfeaturesToPlot, TCparamNames, ParamsLabels, pairs,uniformYs=True,figsize=(15,10))"
   ]
  },
  {
   "cell_type": "markdown",
   "metadata": {},
   "source": [
    "#### Correlations of *Suppression Index* with other quantities:"
   ]
  },
  {
   "cell_type": "code",
   "execution_count": null,
   "metadata": {
    "collapsed": false
   },
   "outputs": [],
   "source": [
    "pairs = [(5,3),(6,3),(8,3),(9,3),(10,3),(1,3),(11,3)]\n",
    "pairs = [[betterOrder[i-1]-1 for i in p] for p in pairs] \n",
    "tcfplot.makeScatterPlots(TCfeaturesToPlot, TCparamNames, ParamsLabels, pairs,uniformYs=True,figsize=(15,10))"
   ]
  },
  {
   "cell_type": "markdown",
   "metadata": {},
   "source": [
    "#### Correlations of rates and responses (not interesting)"
   ]
  },
  {
   "cell_type": "code",
   "execution_count": null,
   "metadata": {
    "collapsed": false
   },
   "outputs": [],
   "source": [
    "inds = range(5,13) #for rates\n",
    "pairs = [(j,i) for i in inds for j in inds]\n",
    "pairs = [[betterOrder[i-1]-1 for i in p] for p in pairs] \n",
    "tcfplot.makeScatterPlots(TCfeaturesToPlot, TCparamNames, ParamsLabels, \\\n",
    "                 pairs,cols=len(inds),figsize=(27/1.5,23/1.5),hspace=.4,wspace=.4,uniformYs=True,symm=True)"
   ]
  },
  {
   "cell_type": "markdown",
   "metadata": {},
   "source": [
    "## Difference of Gaussians parameters"
   ]
  },
  {
   "cell_type": "code",
   "execution_count": null,
   "metadata": {
    "collapsed": false
   },
   "outputs": [],
   "source": [
    "TCfeatures = eval(Celltype+'features')\n",
    "\n",
    "TCfeaturesToPlot = TCfeatures['CarandiniParams']\n",
    "TCparamNames = TCfeatures['CarandiniParamsNames']\n",
    "ParamsLabels = TCfeatures['CarandiniParamsLabels']\n",
    "print(\" , \".join(TCparamNames))"
   ]
  },
  {
   "cell_type": "code",
   "execution_count": null,
   "metadata": {
    "collapsed": false
   },
   "outputs": [],
   "source": [
    "%matplotlib inline\n",
    "\n",
    "betterOrder = [1,4,2,3,5,6] #list(range(1,7))\n",
    "tcfplot.makeHistograms(TCfeaturesToPlot, TCparamNames,ParamsLabels, CelltypeLabel,betterOrder,figsize=(8,10),nbins=15)\n",
    "print(\"Ncells = %1.0f\" % TCfeatures['Ncells'])"
   ]
  },
  {
   "cell_type": "code",
   "execution_count": null,
   "metadata": {
    "collapsed": false
   },
   "outputs": [],
   "source": [
    "inds = range(6)\n",
    "pairs = [(j,i) for i in inds for j in inds]\n",
    "betterOrder = [1,2,3,5,6,4]\n",
    "pairs = [[betterOrder[i]-1 for i in p] for p in pairs] \n",
    "tcfplot.makeScatterPlots(TCfeaturesToPlot, TCparamNames, ParamsLabels, \\\n",
    "                 pairs,cols=len(inds),figsize=(14,14),hspace=.4,wspace=.4,symm=True)"
   ]
  },
  {
   "cell_type": "code",
   "execution_count": null,
   "metadata": {
    "collapsed": false
   },
   "outputs": [],
   "source": [
    "betterOrder_x = [2,3,5,6]\n",
    "betterOrder_y = [10,1,4,8,6,12]\n",
    "pairs = [[i-1, j-1] for j in betterOrder_y for i in betterOrder_x ] \n",
    "sig_vec = tcfplot.makeScatterPlots(TCfeaturesToPlot, TCparamNames, ParamsLabels, \\\n",
    "                 pairs,cols=len(betterOrder_x),figsize=(14,18),hspace=.3,wspace=.2,uniformYs=True,uniformXs=True,\\\n",
    "                 yTCfeatures = TCfeatures['MiscParams'],yTCparamsNames = TCfeatures['MiscParamsNames'],\\\n",
    "                         yTCparamsLabels = TCfeatures['MiscParamsLabels'])"
   ]
  },
  {
   "cell_type": "code",
   "execution_count": null,
   "metadata": {
    "collapsed": false
   },
   "outputs": [],
   "source": [
    "pairs1 = [pairs[i] for i in np.nonzero(sig_vec)[0]]\n",
    "sigs = tcfplot.makeScatterPlots(TCfeaturesToPlot, TCparamNames, ParamsLabels, \\\n",
    "                 pairs1,cols=len(betterOrder_x),figsize=(14,6),wspace=.5,\\\n",
    "                 yTCfeatures = TCfeatures['MiscParams'],yTCparamsNames = TCfeatures['MiscParamsNames'],\\\n",
    "                         yTCparamsLabels = TCfeatures['MiscParamsLabels'])"
   ]
  },
  {
   "cell_type": "code",
   "execution_count": null,
   "metadata": {
    "collapsed": true
   },
   "outputs": [],
   "source": []
  }
 ],
 "metadata": {
  "kernelspec": {
   "display_name": "Python 3",
   "language": "python",
   "name": "python3"
  },
  "language_info": {
   "codemirror_mode": {
    "name": "ipython",
    "version": 3
   },
   "file_extension": ".py",
   "mimetype": "text/x-python",
   "name": "python",
   "nbconvert_exporter": "python",
   "pygments_lexer": "ipython3",
   "version": "3.5.1"
  }
 },
 "nbformat": 4,
 "nbformat_minor": 0
}
